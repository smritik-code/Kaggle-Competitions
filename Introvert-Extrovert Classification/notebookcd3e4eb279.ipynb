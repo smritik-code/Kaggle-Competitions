{
 "cells": [
  {
   "cell_type": "code",
   "execution_count": null,
   "id": "26983d19",
   "metadata": {
    "vscode": {
     "languageId": "plaintext"
    }
   },
   "outputs": [],
   "source": [
    "# This Python 3 environment comes with many helpful analytics libraries installed\n",
    "# It is defined by the kaggle/python Docker image: https://github.com/kaggle/docker-python\n",
    "# For example, here's several helpful packages to load\n",
    "\n",
    "import numpy as np # linear algebra\n",
    "import pandas as pd # data processing, CSV file I/O (e.g. pd.read_csv)\n",
    "\n",
    "# Input data files are available in the read-only \"../input/\" directory\n",
    "# For example, running this (by clicking run or pressing Shift+Enter) will list all files under the input directory\n",
    "\n",
    "import os\n",
    "for dirname, _, filenames in os.walk('/kaggle/input'):\n",
    "    for filename in filenames:\n",
    "        print(os.path.join(dirname, filename))\n",
    "\n",
    "# You can write up to 20GB to the current directory (/kaggle/working/) that gets preserved as output when you create a version using \"Save & Run All\" \n",
    "# You can also write temporary files to /kaggle/temp/, but they won't be saved outside of the current session"
   ]
  },
  {
   "cell_type": "code",
   "execution_count": null,
   "id": "076537d8",
   "metadata": {
    "vscode": {
     "languageId": "plaintext"
    }
   },
   "outputs": [],
   "source": [
    "\n",
    "\n",
    "train = pd.read_csv(\"/kaggle/input/playground-series-s5e7/train.csv\")\n",
    "test = pd.read_csv(\"/kaggle/input/playground-series-s5e7/test.csv\")\n",
    "\n",
    "train\n",
    "\n"
   ]
  },
  {
   "cell_type": "code",
   "execution_count": null,
   "id": "fdb644e5",
   "metadata": {
    "vscode": {
     "languageId": "plaintext"
    }
   },
   "outputs": [],
   "source": [
    "test.shape"
   ]
  },
  {
   "cell_type": "code",
   "execution_count": null,
   "id": "0bd752a7",
   "metadata": {
    "vscode": {
     "languageId": "plaintext"
    }
   },
   "outputs": [],
   "source": [
    "\n",
    "\n",
    "id = test['id']\n",
    "train.drop(labels='id',axis='columns',inplace=True)\n",
    "test.drop(labels='id',axis='columns',inplace=True)\n",
    "\n"
   ]
  },
  {
   "cell_type": "code",
   "execution_count": null,
   "id": "f0d50637",
   "metadata": {
    "vscode": {
     "languageId": "plaintext"
    }
   },
   "outputs": [],
   "source": [
    "train.isnull().sum()"
   ]
  },
  {
   "cell_type": "code",
   "execution_count": null,
   "id": "289136de",
   "metadata": {
    "vscode": {
     "languageId": "plaintext"
    }
   },
   "outputs": [],
   "source": [
    "test.isnull().sum()"
   ]
  },
  {
   "cell_type": "code",
   "execution_count": null,
   "id": "1dab747d",
   "metadata": {
    "vscode": {
     "languageId": "plaintext"
    }
   },
   "outputs": [],
   "source": [
    "train.dtypes"
   ]
  },
  {
   "cell_type": "code",
   "execution_count": null,
   "id": "942ed352",
   "metadata": {
    "vscode": {
     "languageId": "plaintext"
    }
   },
   "outputs": [],
   "source": [
    "train.describe()"
   ]
  },
  {
   "cell_type": "code",
   "execution_count": null,
   "id": "c5fcb8c8",
   "metadata": {
    "vscode": {
     "languageId": "plaintext"
    }
   },
   "outputs": [],
   "source": [
    "\n",
    "\n",
    "train['Time_spent_Alone'] = train['Time_spent_Alone'].fillna(train['Time_spent_Alone'].mean())\n",
    "test['Time_spent_Alone'] = test['Time_spent_Alone'].fillna(test['Time_spent_Alone'].mean())\n",
    "\n",
    "train[train.select_dtypes(include='number').columns] = train.select_dtypes(include='number').fillna(0)\n",
    "test[test.select_dtypes(include='number').columns] = test.select_dtypes(include='number').fillna(0)\n",
    "\n",
    "obj_cols = train.select_dtypes(include='object').columns\n",
    "train[obj_cols] = train[obj_cols].fillna('No')\n",
    "\n",
    "test[[\"Stage_fear\",'Drained_after_socializing']] = test[[\"Stage_fear\",'Drained_after_socializing']].fillna('No')\n",
    "\n"
   ]
  },
  {
   "cell_type": "code",
   "execution_count": null,
   "id": "e7473afe",
   "metadata": {
    "vscode": {
     "languageId": "plaintext"
    }
   },
   "outputs": [],
   "source": [
    "\n",
    "\n",
    "yes_no_cols = ['Stage_fear', 'Drained_after_socializing'] \n",
    "\n",
    "for col in yes_no_cols:\n",
    "    train[col] = train[col].map({'No': 0, 'Yes': 1})\n",
    "    test[col] = test[col].map({'No': 0, 'Yes': 1})\n",
    "\n",
    "train['Personality'] = train['Personality'].map({'Extrovert': 0, 'Introvert': 1})\n",
    "\n",
    "train\n",
    "\n"
   ]
  },
  {
   "cell_type": "code",
   "execution_count": null,
   "id": "a19785bb",
   "metadata": {
    "vscode": {
     "languageId": "plaintext"
    }
   },
   "outputs": [],
   "source": [
    "y = train['Personality']\n",
    "X = train.drop(labels='Personality',axis='columns')"
   ]
  },
  {
   "cell_type": "code",
   "execution_count": null,
   "id": "c63444fe",
   "metadata": {
    "vscode": {
     "languageId": "plaintext"
    }
   },
   "outputs": [],
   "source": [
    "from sklearn.model_selection import train_test_split\n",
    "X_train, X_test, y_train, y_test = train_test_split(X, y, test_size=0.3, random_state=42)"
   ]
  },
  {
   "cell_type": "code",
   "execution_count": null,
   "id": "19b7c96a",
   "metadata": {
    "vscode": {
     "languageId": "plaintext"
    }
   },
   "outputs": [],
   "source": [
    "\n",
    "\n",
    "from sklearn.model_selection import GridSearchCV\n",
    "from sklearn.pipeline import Pipeline\n",
    "from sklearn.preprocessing import StandardScaler\n",
    "from sklearn.svm import SVC\n",
    "from xgboost import XGBClassifier\n",
    "from sklearn.metrics import classification_report\n",
    "\n"
   ]
  },
  {
   "cell_type": "code",
   "execution_count": null,
   "id": "3e99497b",
   "metadata": {
    "vscode": {
     "languageId": "plaintext"
    }
   },
   "outputs": [],
   "source": [
    "\n",
    "\n",
    "# SVC pipeline (with scaling)\n",
    "pipeline_svc = Pipeline([\n",
    "    ('scaler', StandardScaler()),\n",
    "    ('svc', SVC())\n",
    "])\n",
    "\n",
    "# XGB pipeline (without scaling)\n",
    "pipeline_xgb = Pipeline([\n",
    "    ('xgb', XGBClassifier(use_label_encoder=False, eval_metric='mlogloss'))\n",
    "])\n",
    "\n",
    "# Parameter grids\n",
    "param_grid_svc = {\n",
    "    'svc__C': [0.1, 1, 10],\n",
    "    'svc__kernel': ['linear', 'rbf'],\n",
    "    'svc__gamma': ['scale', 'auto']\n",
    "}\n",
    "\n",
    "param_grid_xgb = {\n",
    "    'xgb__n_estimators': [50, 100],\n",
    "    'xgb__max_depth': [3, 5],\n",
    "    'xgb__learning_rate': [0.05, 0.1]\n",
    "}\n",
    "\n",
    "# Grid search\n",
    "grid_svc = GridSearchCV(pipeline_svc, param_grid_svc, cv=5, scoring='accuracy', n_jobs=-1)\n",
    "grid_xgb = GridSearchCV(pipeline_xgb, param_grid_xgb, cv=5, scoring='accuracy', n_jobs=-1)\n",
    "\n",
    "# Fit both\n",
    "grid_svc.fit(X_train, y_train)\n",
    "grid_xgb.fit(X_train, y_train)\n",
    "\n",
    "# Results\n",
    "print(\"SVC best params:\", grid_svc.best_params_)\n",
    "print(\"XGB best params:\", grid_xgb.best_params_)\n",
    "\n",
    "print(\"\\nSVC Test Report:\")\n",
    "print(classification_report(y_test, grid_svc.predict(X_test)))\n",
    "\n",
    "print(\"\\nXGB Test Report:\")\n",
    "print(classification_report(y_test, grid_xgb.predict(X_test)))\n",
    "\n"
   ]
  },
  {
   "cell_type": "code",
   "execution_count": null,
   "id": "ab585283",
   "metadata": {
    "vscode": {
     "languageId": "plaintext"
    }
   },
   "outputs": [],
   "source": [
    "\n",
    "\n",
    "best_svc_model = grid_svc.best_estimator_\n",
    "y_pred = pd.Series(best_svc_model.predict(test))\n",
    "\n",
    "y_pred = y_pred.map({ 0 : 'Extrovert', 1 : 'Introvert'})\n",
    "\n",
    "df = pd.concat([id, y_pred], axis=1)\n",
    "\n",
    "\n",
    "df.to_csv('output.csv', index=False)  \n",
    "\n"
   ]
  }
 ],
 "metadata": {
  "language_info": {
   "name": "python"
  }
 },
 "nbformat": 4,
 "nbformat_minor": 5
}
